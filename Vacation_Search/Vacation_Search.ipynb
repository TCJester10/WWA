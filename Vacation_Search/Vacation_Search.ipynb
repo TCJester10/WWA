{
 "cells": [
  {
   "cell_type": "markdown",
   "metadata": {},
   "source": [
    "## Deliverable 2. Create a Customer Travel Destinations Map."
   ]
  },
  {
   "cell_type": "code",
   "execution_count": 15,
   "metadata": {},
   "outputs": [],
   "source": [
    "# Dependencies and Setup\n",
    "import pandas as pd\n",
    "import requests\n",
    "import gmaps\n",
    "import numpy as np\n",
    "# Import API key\n",
    "from config import g_key\n",
    "\n",
    "# Configure gmaps API key\n",
    "gmaps.configure(api_key=g_key)"
   ]
  },
  {
   "cell_type": "code",
   "execution_count": 36,
   "metadata": {},
   "outputs": [
    {
     "output_type": "execute_result",
     "data": {
      "text/plain": [
       "   City_ID        City Country      Lat       Lng  Max Temp  Humidity  \\\n",
       "0        0       Muros      ES  42.7762   -9.0603      41.0        82   \n",
       "1        1      Hasaki      JP  35.7333  140.8333      66.0        29   \n",
       "2        2        Hilo      US  19.7297 -155.0900      73.4        73   \n",
       "3        3      Hirara      JP  24.8000  125.2833      71.6        53   \n",
       "4        4  Olenegorsk      RU  68.1500   33.3000      36.1        89   \n",
       "\n",
       "   Cloudiness Current Description  \n",
       "0          96     overcast clouds  \n",
       "1          75       broken clouds  \n",
       "2          90     overcast clouds  \n",
       "3          40    scattered clouds  \n",
       "4          81       broken clouds  "
      ],
      "text/html": "<div>\n<style scoped>\n    .dataframe tbody tr th:only-of-type {\n        vertical-align: middle;\n    }\n\n    .dataframe tbody tr th {\n        vertical-align: top;\n    }\n\n    .dataframe thead th {\n        text-align: right;\n    }\n</style>\n<table border=\"1\" class=\"dataframe\">\n  <thead>\n    <tr style=\"text-align: right;\">\n      <th></th>\n      <th>City_ID</th>\n      <th>City</th>\n      <th>Country</th>\n      <th>Lat</th>\n      <th>Lng</th>\n      <th>Max Temp</th>\n      <th>Humidity</th>\n      <th>Cloudiness</th>\n      <th>Current Description</th>\n    </tr>\n  </thead>\n  <tbody>\n    <tr>\n      <th>0</th>\n      <td>0</td>\n      <td>Muros</td>\n      <td>ES</td>\n      <td>42.7762</td>\n      <td>-9.0603</td>\n      <td>41.0</td>\n      <td>82</td>\n      <td>96</td>\n      <td>overcast clouds</td>\n    </tr>\n    <tr>\n      <th>1</th>\n      <td>1</td>\n      <td>Hasaki</td>\n      <td>JP</td>\n      <td>35.7333</td>\n      <td>140.8333</td>\n      <td>66.0</td>\n      <td>29</td>\n      <td>75</td>\n      <td>broken clouds</td>\n    </tr>\n    <tr>\n      <th>2</th>\n      <td>2</td>\n      <td>Hilo</td>\n      <td>US</td>\n      <td>19.7297</td>\n      <td>-155.0900</td>\n      <td>73.4</td>\n      <td>73</td>\n      <td>90</td>\n      <td>overcast clouds</td>\n    </tr>\n    <tr>\n      <th>3</th>\n      <td>3</td>\n      <td>Hirara</td>\n      <td>JP</td>\n      <td>24.8000</td>\n      <td>125.2833</td>\n      <td>71.6</td>\n      <td>53</td>\n      <td>40</td>\n      <td>scattered clouds</td>\n    </tr>\n    <tr>\n      <th>4</th>\n      <td>4</td>\n      <td>Olenegorsk</td>\n      <td>RU</td>\n      <td>68.1500</td>\n      <td>33.3000</td>\n      <td>36.1</td>\n      <td>89</td>\n      <td>81</td>\n      <td>broken clouds</td>\n    </tr>\n  </tbody>\n</table>\n</div>"
     },
     "metadata": {},
     "execution_count": 36
    }
   ],
   "source": [
    "# 1. Import the WeatherPy_database.csv file. \n",
    "city_data_df = pd.read_csv(\"../weather_data/WeatherPy_Database.csv\")\n",
    "city_data_df.head()"
   ]
  },
  {
   "cell_type": "code",
   "execution_count": 20,
   "metadata": {},
   "outputs": [],
   "source": [
    "# 2. Prompt the user to enter minimum and maximum temperature criteria\n",
    "# # Ask the customer to add a minimum and maximum temperature value.\n",
    "min_temp = float(input(\"What is the minimum temperature you would like for your trip? \"))\n",
    "max_temp = float(input(\"What is the maximum temperature you would like for your trip? \")) \n"
   ]
  },
  {
   "cell_type": "code",
   "execution_count": 38,
   "metadata": {},
   "outputs": [
    {
     "output_type": "execute_result",
     "data": {
      "text/plain": [
       "    City_ID            City Country      Lat       Lng  Max Temp  Humidity  \\\n",
       "1         1          Hasaki      JP  35.7333  140.8333     66.00        29   \n",
       "2         2            Hilo      US  19.7297 -155.0900     73.40        73   \n",
       "3         3          Hirara      JP  24.8000  125.2833     71.60        53   \n",
       "5         5          Yulara      AU -25.2406  130.9889     75.20        20   \n",
       "10       10          Teshie      GH   5.5836   -0.1072     78.80        78   \n",
       "11       11          Boende      CD  -0.2167   20.8667     73.63        92   \n",
       "12       12       Cape Town      ZA -33.9258   18.4232     73.99        48   \n",
       "17       17      Codrington      AU -38.2667  141.9667     63.18        63   \n",
       "20       20  Port Elizabeth      ZA -33.9180   25.5701     62.60        67   \n",
       "22       22       Busselton      AU -33.6500  115.3333     77.00        42   \n",
       "\n",
       "    Cloudiness Current Description  \n",
       "1           75       broken clouds  \n",
       "2           90     overcast clouds  \n",
       "3           40    scattered clouds  \n",
       "5            0           clear sky  \n",
       "10           0           clear sky  \n",
       "11         100     overcast clouds  \n",
       "12           0           clear sky  \n",
       "17          76       broken clouds  \n",
       "20           0           clear sky  \n",
       "22           0           clear sky  "
      ],
      "text/html": "<div>\n<style scoped>\n    .dataframe tbody tr th:only-of-type {\n        vertical-align: middle;\n    }\n\n    .dataframe tbody tr th {\n        vertical-align: top;\n    }\n\n    .dataframe thead th {\n        text-align: right;\n    }\n</style>\n<table border=\"1\" class=\"dataframe\">\n  <thead>\n    <tr style=\"text-align: right;\">\n      <th></th>\n      <th>City_ID</th>\n      <th>City</th>\n      <th>Country</th>\n      <th>Lat</th>\n      <th>Lng</th>\n      <th>Max Temp</th>\n      <th>Humidity</th>\n      <th>Cloudiness</th>\n      <th>Current Description</th>\n    </tr>\n  </thead>\n  <tbody>\n    <tr>\n      <th>1</th>\n      <td>1</td>\n      <td>Hasaki</td>\n      <td>JP</td>\n      <td>35.7333</td>\n      <td>140.8333</td>\n      <td>66.00</td>\n      <td>29</td>\n      <td>75</td>\n      <td>broken clouds</td>\n    </tr>\n    <tr>\n      <th>2</th>\n      <td>2</td>\n      <td>Hilo</td>\n      <td>US</td>\n      <td>19.7297</td>\n      <td>-155.0900</td>\n      <td>73.40</td>\n      <td>73</td>\n      <td>90</td>\n      <td>overcast clouds</td>\n    </tr>\n    <tr>\n      <th>3</th>\n      <td>3</td>\n      <td>Hirara</td>\n      <td>JP</td>\n      <td>24.8000</td>\n      <td>125.2833</td>\n      <td>71.60</td>\n      <td>53</td>\n      <td>40</td>\n      <td>scattered clouds</td>\n    </tr>\n    <tr>\n      <th>5</th>\n      <td>5</td>\n      <td>Yulara</td>\n      <td>AU</td>\n      <td>-25.2406</td>\n      <td>130.9889</td>\n      <td>75.20</td>\n      <td>20</td>\n      <td>0</td>\n      <td>clear sky</td>\n    </tr>\n    <tr>\n      <th>10</th>\n      <td>10</td>\n      <td>Teshie</td>\n      <td>GH</td>\n      <td>5.5836</td>\n      <td>-0.1072</td>\n      <td>78.80</td>\n      <td>78</td>\n      <td>0</td>\n      <td>clear sky</td>\n    </tr>\n    <tr>\n      <th>11</th>\n      <td>11</td>\n      <td>Boende</td>\n      <td>CD</td>\n      <td>-0.2167</td>\n      <td>20.8667</td>\n      <td>73.63</td>\n      <td>92</td>\n      <td>100</td>\n      <td>overcast clouds</td>\n    </tr>\n    <tr>\n      <th>12</th>\n      <td>12</td>\n      <td>Cape Town</td>\n      <td>ZA</td>\n      <td>-33.9258</td>\n      <td>18.4232</td>\n      <td>73.99</td>\n      <td>48</td>\n      <td>0</td>\n      <td>clear sky</td>\n    </tr>\n    <tr>\n      <th>17</th>\n      <td>17</td>\n      <td>Codrington</td>\n      <td>AU</td>\n      <td>-38.2667</td>\n      <td>141.9667</td>\n      <td>63.18</td>\n      <td>63</td>\n      <td>76</td>\n      <td>broken clouds</td>\n    </tr>\n    <tr>\n      <th>20</th>\n      <td>20</td>\n      <td>Port Elizabeth</td>\n      <td>ZA</td>\n      <td>-33.9180</td>\n      <td>25.5701</td>\n      <td>62.60</td>\n      <td>67</td>\n      <td>0</td>\n      <td>clear sky</td>\n    </tr>\n    <tr>\n      <th>22</th>\n      <td>22</td>\n      <td>Busselton</td>\n      <td>AU</td>\n      <td>-33.6500</td>\n      <td>115.3333</td>\n      <td>77.00</td>\n      <td>42</td>\n      <td>0</td>\n      <td>clear sky</td>\n    </tr>\n  </tbody>\n</table>\n</div>"
     },
     "metadata": {},
     "execution_count": 38
    }
   ],
   "source": [
    "# 3. Filter the city_data_df DataFrame using the input statements to create a new DataFrame using the loc method.\n",
    "pref_cities_df = city_data_df.loc[(city_data_df[\"Max Temp\"] <= max_temp) & \\\n",
    "                                       (city_data_df[\"Max Temp\"] >= min_temp)]\n",
    "pref_cities_df.head(10)"
   ]
  },
  {
   "cell_type": "code",
   "execution_count": 39,
   "metadata": {},
   "outputs": [
    {
     "output_type": "execute_result",
     "data": {
      "text/plain": [
       "City_ID                281\n",
       "City                   281\n",
       "Country                278\n",
       "Lat                    281\n",
       "Lng                    281\n",
       "Max Temp               281\n",
       "Humidity               281\n",
       "Cloudiness             281\n",
       "Current Description    281\n",
       "dtype: int64"
      ]
     },
     "metadata": {},
     "execution_count": 39
    }
   ],
   "source": [
    "# 4a. Determine if there are any empty rows.\n",
    "pref_cities_df.count()"
   ]
  },
  {
   "cell_type": "code",
   "execution_count": 40,
   "metadata": {},
   "outputs": [
    {
     "output_type": "execute_result",
     "data": {
      "text/plain": [
       "City_ID                278\n",
       "City                   278\n",
       "Country                278\n",
       "Lat                    278\n",
       "Lng                    278\n",
       "Max Temp               278\n",
       "Humidity               278\n",
       "Cloudiness             278\n",
       "Current Description    278\n",
       "dtype: int64"
      ]
     },
     "metadata": {},
     "execution_count": 40
    }
   ],
   "source": [
    "# 4b. Drop any empty rows and create a new DataFrame that doesn’t have empty rows.\n",
    "pref_cities_clean_df = pref_cities_df.dropna()\n",
    "pref_cities_clean_df.count()\n"
   ]
  },
  {
   "cell_type": "code",
   "execution_count": 37,
   "metadata": {},
   "outputs": [
    {
     "output_type": "execute_result",
     "data": {
      "text/plain": [
       "              City Country  Max Temp Current Description      Lat       Lng  \\\n",
       "1           Hasaki      JP     66.00       broken clouds  35.7333  140.8333   \n",
       "2             Hilo      US     73.40     overcast clouds  19.7297 -155.0900   \n",
       "3           Hirara      JP     71.60    scattered clouds  24.8000  125.2833   \n",
       "5           Yulara      AU     75.20           clear sky -25.2406  130.9889   \n",
       "10          Teshie      GH     78.80           clear sky   5.5836   -0.1072   \n",
       "11          Boende      CD     73.63     overcast clouds  -0.2167   20.8667   \n",
       "12       Cape Town      ZA     73.99           clear sky -33.9258   18.4232   \n",
       "17      Codrington      AU     63.18       broken clouds -38.2667  141.9667   \n",
       "20  Port Elizabeth      ZA     62.60           clear sky -33.9180   25.5701   \n",
       "22       Busselton      AU     77.00           clear sky -33.6500  115.3333   \n",
       "\n",
       "   Hotel Name  \n",
       "1              \n",
       "2              \n",
       "3              \n",
       "5              \n",
       "10             \n",
       "11             \n",
       "12             \n",
       "17             \n",
       "20             \n",
       "22             "
      ],
      "text/html": "<div>\n<style scoped>\n    .dataframe tbody tr th:only-of-type {\n        vertical-align: middle;\n    }\n\n    .dataframe tbody tr th {\n        vertical-align: top;\n    }\n\n    .dataframe thead th {\n        text-align: right;\n    }\n</style>\n<table border=\"1\" class=\"dataframe\">\n  <thead>\n    <tr style=\"text-align: right;\">\n      <th></th>\n      <th>City</th>\n      <th>Country</th>\n      <th>Max Temp</th>\n      <th>Current Description</th>\n      <th>Lat</th>\n      <th>Lng</th>\n      <th>Hotel Name</th>\n    </tr>\n  </thead>\n  <tbody>\n    <tr>\n      <th>1</th>\n      <td>Hasaki</td>\n      <td>JP</td>\n      <td>66.00</td>\n      <td>broken clouds</td>\n      <td>35.7333</td>\n      <td>140.8333</td>\n      <td></td>\n    </tr>\n    <tr>\n      <th>2</th>\n      <td>Hilo</td>\n      <td>US</td>\n      <td>73.40</td>\n      <td>overcast clouds</td>\n      <td>19.7297</td>\n      <td>-155.0900</td>\n      <td></td>\n    </tr>\n    <tr>\n      <th>3</th>\n      <td>Hirara</td>\n      <td>JP</td>\n      <td>71.60</td>\n      <td>scattered clouds</td>\n      <td>24.8000</td>\n      <td>125.2833</td>\n      <td></td>\n    </tr>\n    <tr>\n      <th>5</th>\n      <td>Yulara</td>\n      <td>AU</td>\n      <td>75.20</td>\n      <td>clear sky</td>\n      <td>-25.2406</td>\n      <td>130.9889</td>\n      <td></td>\n    </tr>\n    <tr>\n      <th>10</th>\n      <td>Teshie</td>\n      <td>GH</td>\n      <td>78.80</td>\n      <td>clear sky</td>\n      <td>5.5836</td>\n      <td>-0.1072</td>\n      <td></td>\n    </tr>\n    <tr>\n      <th>11</th>\n      <td>Boende</td>\n      <td>CD</td>\n      <td>73.63</td>\n      <td>overcast clouds</td>\n      <td>-0.2167</td>\n      <td>20.8667</td>\n      <td></td>\n    </tr>\n    <tr>\n      <th>12</th>\n      <td>Cape Town</td>\n      <td>ZA</td>\n      <td>73.99</td>\n      <td>clear sky</td>\n      <td>-33.9258</td>\n      <td>18.4232</td>\n      <td></td>\n    </tr>\n    <tr>\n      <th>17</th>\n      <td>Codrington</td>\n      <td>AU</td>\n      <td>63.18</td>\n      <td>broken clouds</td>\n      <td>-38.2667</td>\n      <td>141.9667</td>\n      <td></td>\n    </tr>\n    <tr>\n      <th>20</th>\n      <td>Port Elizabeth</td>\n      <td>ZA</td>\n      <td>62.60</td>\n      <td>clear sky</td>\n      <td>-33.9180</td>\n      <td>25.5701</td>\n      <td></td>\n    </tr>\n    <tr>\n      <th>22</th>\n      <td>Busselton</td>\n      <td>AU</td>\n      <td>77.00</td>\n      <td>clear sky</td>\n      <td>-33.6500</td>\n      <td>115.3333</td>\n      <td></td>\n    </tr>\n  </tbody>\n</table>\n</div>"
     },
     "metadata": {},
     "execution_count": 37
    }
   ],
   "source": [
    "# 5a. Create DataFrame called hotel_df to store hotel names along with city, country, max temp, and coordinates.\n",
    "hotel_df = pref_cities_clean_df[[\"City\", \"Country\", \"Max Temp\", \"Current Description\", \"Lat\", \"Lng\"]].copy()\n",
    "\n",
    "# 5b. Create a new column \"Hotel Name\"\n",
    "hotel_df[\"Hotel Name\"] = \"\"\n",
    "hotel_df.head(10)"
   ]
  },
  {
   "cell_type": "code",
   "execution_count": 41,
   "metadata": {},
   "outputs": [
    {
     "output_type": "stream",
     "name": "stdout",
     "text": [
      "Hotel not found...skipping\n",
      "Hotel not found...skipping\n",
      "Hotel not found...skipping\n",
      "Hotel not found...skipping\n",
      "Hotel not found...skipping\n",
      "Hotel not found...skipping\n",
      "Hotel not found...skipping\n",
      "Hotel not found...skipping\n",
      "Hotel not found...skipping\n",
      "Hotel not found...skipping\n",
      "Hotel not found...skipping\n",
      "Hotel not found...skipping\n",
      "Hotel not found...skipping\n",
      "Hotel not found...skipping\n",
      "Hotel not found...skipping\n",
      "Hotel not found...skipping\n",
      "Hotel not found...skipping\n",
      "Hotel not found...skipping\n",
      "Hotel not found...skipping\n",
      "Hotel not found...skipping\n",
      "Hotel not found...skipping\n",
      "Hotel not found...skipping\n",
      "Hotel not found...skipping\n",
      "Hotel not found...skipping\n"
     ]
    }
   ],
   "source": [
    "# 6a. Set parameters to search for hotels with 5000 meters.\n",
    "params = {\n",
    "    \"radius\": 5000,\n",
    "    \"type\": \"lodging\",\n",
    "    \"key\": g_key\n",
    "}\n",
    "\n",
    "# 6b. Iterate through the hotel DataFrame.\n",
    "for index, row in hotel_df.iterrows():\n",
    "    # 6c. Get latitude and longitude from DataFrame\n",
    "    lat = row[\"Lat\"]\n",
    "    lng = row[\"Lng\"]\n",
    "    params[\"location\"] = f\"{lat},{lng}\"\n",
    "    # 6d. Set up the base URL for the Google Directions API to get JSON data.\n",
    "    base_url = \"https://maps.googleapis.com/maps/api/place/nearbysearch/json\"\n",
    "\n",
    "    # 6e. Make request and retrieve the JSON data from the search. \n",
    "    hotels = requests.get(base_url, params=params).json()\n",
    "    # 6f. Get the first hotel from the results and store the name, if a hotel isn't found skip the city.\n",
    "    try:\n",
    "        hotel_df.loc[index, \"Hotel Name\"] = hotels['results'][0]['name']\n",
    "    except (IndexError):\n",
    "        print('Hotel not found...skipping') \n"
   ]
  },
  {
   "cell_type": "code",
   "execution_count": 42,
   "metadata": {},
   "outputs": [],
   "source": [
    "# 7. Drop the rows where there is no Hotel Name.\n",
    "hotel_df.replace(r'^\\s*$', np.nan, regex=True)\n",
    "clean_hotel_df = hotel_df.dropna()\n"
   ]
  },
  {
   "cell_type": "code",
   "execution_count": 43,
   "metadata": {},
   "outputs": [],
   "source": [
    "# 8a. Create the output File (CSV)\n",
    "hotel_file = 'WeatherPy_vacation.csv'\n",
    "# 8b. Export the City_Data into a csv\n",
    "clean_hotel_df.to_csv(hotel_file, index_label=\"City_ID\")"
   ]
  },
  {
   "cell_type": "code",
   "execution_count": 44,
   "metadata": {},
   "outputs": [],
   "source": [
    "# 9. Using the template add city name, the country code, the weather description and maximum temperature for the city.\n",
    "info_box_template = \"\"\"\n",
    "<dl>\n",
    "<dt>Hotel Name</dt><dd>{Hotel Name}</dd>\n",
    "<dt>City</dt><dd>{City}</dd>\n",
    "<dt>Country</dt><dd>{Country}</dd>\n",
    "<dt>Current Description</dt><dd>{Current Description}</dd>\n",
    "<dt>Max Temp</dt><dd>{Max Temp} °F</dd>\n",
    "</dl>\n",
    "\"\"\"\n",
    "\n",
    "# 10a. Get the data from each row and add it to the formatting template and store the data in a list.\n",
    "hotel_info = [info_box_template.format(**row) for index, row in clean_hotel_df.iterrows()]\n",
    "\n",
    "# 10b. Get the latitude and longitude from each row and store in a new DataFrame.\n",
    "locations = clean_hotel_df[[\"Lat\", \"Lng\"]]"
   ]
  },
  {
   "cell_type": "code",
   "execution_count": 45,
   "metadata": {},
   "outputs": [
    {
     "output_type": "display_data",
     "data": {
      "text/plain": "Figure(layout=FigureLayout(height='420px'))",
      "application/vnd.jupyter.widget-view+json": {
       "version_major": 2,
       "version_minor": 0,
       "model_id": "1e165ce4799a4cc5bb73092447852cd3"
      }
     },
     "metadata": {}
    }
   ],
   "source": [
    "# 11a. Add a marker layer for each city to the map. \n",
    "locations = clean_hotel_df[[\"Lat\", \"Lng\"]]\n",
    "fig = gmaps.figure(center=(30.0, 31.0), zoom_level=1.5)\n",
    "marker_layer = gmaps.marker_layer(locations)\n",
    "fig.add_layer(marker_layer)\n",
    "# 11b. Display the figure\n",
    "fig"
   ]
  }
 ],
 "metadata": {
  "kernelspec": {
   "name": "python385jvsc74a57bd036dbe20661b8f87bcdd3e2146e84ef99c57f0b06f6ff6b898bb7a2966a246b78",
   "display_name": "Python 3.8.5 64-bit ('base': conda)"
  },
  "language_info": {
   "codemirror_mode": {
    "name": "ipython",
    "version": 3
   },
   "file_extension": ".py",
   "mimetype": "text/x-python",
   "name": "python",
   "nbconvert_exporter": "python",
   "pygments_lexer": "ipython3",
   "version": "3.8.5"
  },
  "latex_envs": {
   "LaTeX_envs_menu_present": true,
   "autoclose": false,
   "autocomplete": true,
   "bibliofile": "biblio.bib",
   "cite_by": "apalike",
   "current_citInitial": 1,
   "eqLabelWithNumbers": true,
   "eqNumInitial": 1,
   "hotkeys": {
    "equation": "Ctrl-E",
    "itemize": "Ctrl-I"
   },
   "labels_anchors": false,
   "latex_user_defs": false,
   "report_style_numbering": false,
   "user_envs_cfg": false
  }
 },
 "nbformat": 4,
 "nbformat_minor": 2
}