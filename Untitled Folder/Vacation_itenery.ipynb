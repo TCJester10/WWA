{
 "cells": [
  {
   "cell_type": "code",
   "execution_count": 13,
   "metadata": {},
   "outputs": [],
   "source": [
    "# Dependencies and Setup\n",
    "import pandas as pd\n",
    "import requests\n",
    "import gmaps\n",
    "import numpy as np\n",
    "# Import API key\n",
    "from config import g_key\n",
    "\n",
    "# Configure gmaps API key\n",
    "gmaps.configure(api_key=g_key)"
   ]
  },
  {
   "cell_type": "code",
   "execution_count": 11,
   "metadata": {},
   "outputs": [
    {
     "data": {
      "text/html": [
       "<div>\n",
       "<style scoped>\n",
       "    .dataframe tbody tr th:only-of-type {\n",
       "        vertical-align: middle;\n",
       "    }\n",
       "\n",
       "    .dataframe tbody tr th {\n",
       "        vertical-align: top;\n",
       "    }\n",
       "\n",
       "    .dataframe thead th {\n",
       "        text-align: right;\n",
       "    }\n",
       "</style>\n",
       "<table border=\"1\" class=\"dataframe\">\n",
       "  <thead>\n",
       "    <tr style=\"text-align: right;\">\n",
       "      <th></th>\n",
       "      <th>City_ID</th>\n",
       "      <th>City</th>\n",
       "      <th>Country</th>\n",
       "      <th>Max Temp</th>\n",
       "      <th>Current Description</th>\n",
       "      <th>Lat</th>\n",
       "      <th>Lng</th>\n",
       "      <th>Hotel Name</th>\n",
       "    </tr>\n",
       "  </thead>\n",
       "  <tbody>\n",
       "    <tr>\n",
       "      <th>0</th>\n",
       "      <td>2</td>\n",
       "      <td>Hilo</td>\n",
       "      <td>US</td>\n",
       "      <td>73.40</td>\n",
       "      <td>overcast clouds</td>\n",
       "      <td>19.7297</td>\n",
       "      <td>-155.0900</td>\n",
       "      <td>Hilo Hawaiian Hotel</td>\n",
       "    </tr>\n",
       "    <tr>\n",
       "      <th>1</th>\n",
       "      <td>3</td>\n",
       "      <td>Hirara</td>\n",
       "      <td>JP</td>\n",
       "      <td>71.60</td>\n",
       "      <td>scattered clouds</td>\n",
       "      <td>24.8000</td>\n",
       "      <td>125.2833</td>\n",
       "      <td>Hotel Atoll Emerald Miyakojima</td>\n",
       "    </tr>\n",
       "    <tr>\n",
       "      <th>2</th>\n",
       "      <td>5</td>\n",
       "      <td>Yulara</td>\n",
       "      <td>AU</td>\n",
       "      <td>75.20</td>\n",
       "      <td>clear sky</td>\n",
       "      <td>-25.2406</td>\n",
       "      <td>130.9889</td>\n",
       "      <td>Desert Gardens Hotel - Ayers Rock Resort</td>\n",
       "    </tr>\n",
       "    <tr>\n",
       "      <th>3</th>\n",
       "      <td>6</td>\n",
       "      <td>Banda Aceh</td>\n",
       "      <td>ID</td>\n",
       "      <td>85.75</td>\n",
       "      <td>scattered clouds</td>\n",
       "      <td>5.5577</td>\n",
       "      <td>95.3222</td>\n",
       "      <td>Sulthan Hotel International</td>\n",
       "    </tr>\n",
       "    <tr>\n",
       "      <th>4</th>\n",
       "      <td>7</td>\n",
       "      <td>Samarai</td>\n",
       "      <td>PG</td>\n",
       "      <td>83.98</td>\n",
       "      <td>broken clouds</td>\n",
       "      <td>-10.6167</td>\n",
       "      <td>150.6667</td>\n",
       "      <td>Nuli Sapi</td>\n",
       "    </tr>\n",
       "  </tbody>\n",
       "</table>\n",
       "</div>"
      ],
      "text/plain": [
       "   City_ID        City Country  Max Temp Current Description      Lat  \\\n",
       "0        2        Hilo      US     73.40     overcast clouds  19.7297   \n",
       "1        3      Hirara      JP     71.60    scattered clouds  24.8000   \n",
       "2        5      Yulara      AU     75.20           clear sky -25.2406   \n",
       "3        6  Banda Aceh      ID     85.75    scattered clouds   5.5577   \n",
       "4        7     Samarai      PG     83.98       broken clouds -10.6167   \n",
       "\n",
       "        Lng                                Hotel Name  \n",
       "0 -155.0900                       Hilo Hawaiian Hotel  \n",
       "1  125.2833            Hotel Atoll Emerald Miyakojima  \n",
       "2  130.9889  Desert Gardens Hotel - Ayers Rock Resort  \n",
       "3   95.3222               Sulthan Hotel International  \n",
       "4  150.6667                                 Nuli Sapi  "
      ]
     },
     "execution_count": 11,
     "metadata": {},
     "output_type": "execute_result"
    }
   ],
   "source": [
    "# 1. Import the WeatherPy_vacation.csv file. \n",
    "clean_hotel_df = pd.read_csv(\"../Vacation_Search/WeatherPy_vacation.csv\")\n",
    "clean_hotel_df.head()"
   ]
  },
  {
   "cell_type": "code",
   "execution_count": 14,
   "metadata": {},
   "outputs": [
    {
     "data": {
      "application/vnd.jupyter.widget-view+json": {
       "model_id": "3564e3e6a3724ec2a4f5886ceb3f364c",
       "version_major": 2,
       "version_minor": 0
      },
      "text/plain": [
       "Figure(layout=FigureLayout(height='420px'))"
      ]
     },
     "metadata": {},
     "output_type": "display_data"
    }
   ],
   "source": [
    "# 11a. Add a marker layer for each city to the map. \n",
    "locations = clean_hotel_df[[\"Lat\", \"Lng\"]]\n",
    "fig = gmaps.figure(center=(30.0, 31.0), zoom_level=1.5)\n",
    "marker_layer = gmaps.marker_layer(locations)\n",
    "fig.add_layer(marker_layer)\n",
    "# 11b. Display the figure\n",
    "fig"
   ]
  }
 ],
 "metadata": {
  "kernelspec": {
   "display_name": "PythonData",
   "language": "python",
   "name": "pythondata"
  },
  "language_info": {
   "codemirror_mode": {
    "name": "ipython",
    "version": 3
   },
   "file_extension": ".py",
   "mimetype": "text/x-python",
   "name": "python",
   "nbconvert_exporter": "python",
   "pygments_lexer": "ipython3",
   "version": "3.8.5"
  }
 },
 "nbformat": 4,
 "nbformat_minor": 4
}
